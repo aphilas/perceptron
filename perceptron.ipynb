{
 "metadata": {
  "language_info": {
   "codemirror_mode": {
    "name": "ipython",
    "version": 3
   },
   "file_extension": ".py",
   "mimetype": "text/x-python",
   "name": "python",
   "nbconvert_exporter": "python",
   "pygments_lexer": "ipython3",
   "version": "3.6.9-final"
  },
  "orig_nbformat": 2,
  "kernelspec": {
   "name": "python3",
   "display_name": "Python 3.6.9 64-bit",
   "metadata": {
    "interpreter": {
     "hash": "31f2aee4e71d21fbe5cf8b01ff0e069b9275f58929596ceb00d14d90e3e16cd6"
    }
   }
  }
 },
 "nbformat": 4,
 "nbformat_minor": 2,
 "cells": [
  {
   "cell_type": "code",
   "execution_count": 21,
   "metadata": {},
   "outputs": [],
   "source": [
    "import pandas as pd\n",
    "import numpy as np"
   ]
  },
  {
   "cell_type": "code",
   "execution_count": 22,
   "metadata": {},
   "outputs": [],
   "source": [
    "data = pd.read_csv('./data/heart.data.txt', sep=' ', header=None)"
   ]
  },
  {
   "cell_type": "code",
   "execution_count": 23,
   "metadata": {},
   "outputs": [
    {
     "output_type": "execute_result",
     "data": {
      "text/plain": [
       "               0           1           2           3           4           5   \\\n",
       "count  270.000000  270.000000  270.000000  270.000000  270.000000  270.000000   \n",
       "mean    54.433333    0.677778    3.174074  131.344444  249.659259    0.148148   \n",
       "std      9.109067    0.468195    0.950090   17.861608   51.686237    0.355906   \n",
       "min     29.000000    0.000000    1.000000   94.000000  126.000000    0.000000   \n",
       "25%     48.000000    0.000000    3.000000  120.000000  213.000000    0.000000   \n",
       "50%     55.000000    1.000000    3.000000  130.000000  245.000000    0.000000   \n",
       "75%     61.000000    1.000000    4.000000  140.000000  280.000000    0.000000   \n",
       "max     77.000000    1.000000    4.000000  200.000000  564.000000    1.000000   \n",
       "\n",
       "               6           7           8          9           10          11  \\\n",
       "count  270.000000  270.000000  270.000000  270.00000  270.000000  270.000000   \n",
       "mean     1.022222  149.677778    0.329630    1.05000    1.585185    0.670370   \n",
       "std      0.997891   23.165717    0.470952    1.14521    0.614390    0.943896   \n",
       "min      0.000000   71.000000    0.000000    0.00000    1.000000    0.000000   \n",
       "25%      0.000000  133.000000    0.000000    0.00000    1.000000    0.000000   \n",
       "50%      2.000000  153.500000    0.000000    0.80000    2.000000    0.000000   \n",
       "75%      2.000000  166.000000    1.000000    1.60000    2.000000    1.000000   \n",
       "max      2.000000  202.000000    1.000000    6.20000    3.000000    3.000000   \n",
       "\n",
       "               12          13  \n",
       "count  270.000000  270.000000  \n",
       "mean     4.696296    1.444444  \n",
       "std      1.940659    0.497827  \n",
       "min      3.000000    1.000000  \n",
       "25%      3.000000    1.000000  \n",
       "50%      3.000000    1.000000  \n",
       "75%      7.000000    2.000000  \n",
       "max      7.000000    2.000000  "
      ],
      "text/html": "<div>\n<style scoped>\n    .dataframe tbody tr th:only-of-type {\n        vertical-align: middle;\n    }\n\n    .dataframe tbody tr th {\n        vertical-align: top;\n    }\n\n    .dataframe thead th {\n        text-align: right;\n    }\n</style>\n<table border=\"1\" class=\"dataframe\">\n  <thead>\n    <tr style=\"text-align: right;\">\n      <th></th>\n      <th>0</th>\n      <th>1</th>\n      <th>2</th>\n      <th>3</th>\n      <th>4</th>\n      <th>5</th>\n      <th>6</th>\n      <th>7</th>\n      <th>8</th>\n      <th>9</th>\n      <th>10</th>\n      <th>11</th>\n      <th>12</th>\n      <th>13</th>\n    </tr>\n  </thead>\n  <tbody>\n    <tr>\n      <th>count</th>\n      <td>270.000000</td>\n      <td>270.000000</td>\n      <td>270.000000</td>\n      <td>270.000000</td>\n      <td>270.000000</td>\n      <td>270.000000</td>\n      <td>270.000000</td>\n      <td>270.000000</td>\n      <td>270.000000</td>\n      <td>270.00000</td>\n      <td>270.000000</td>\n      <td>270.000000</td>\n      <td>270.000000</td>\n      <td>270.000000</td>\n    </tr>\n    <tr>\n      <th>mean</th>\n      <td>54.433333</td>\n      <td>0.677778</td>\n      <td>3.174074</td>\n      <td>131.344444</td>\n      <td>249.659259</td>\n      <td>0.148148</td>\n      <td>1.022222</td>\n      <td>149.677778</td>\n      <td>0.329630</td>\n      <td>1.05000</td>\n      <td>1.585185</td>\n      <td>0.670370</td>\n      <td>4.696296</td>\n      <td>1.444444</td>\n    </tr>\n    <tr>\n      <th>std</th>\n      <td>9.109067</td>\n      <td>0.468195</td>\n      <td>0.950090</td>\n      <td>17.861608</td>\n      <td>51.686237</td>\n      <td>0.355906</td>\n      <td>0.997891</td>\n      <td>23.165717</td>\n      <td>0.470952</td>\n      <td>1.14521</td>\n      <td>0.614390</td>\n      <td>0.943896</td>\n      <td>1.940659</td>\n      <td>0.497827</td>\n    </tr>\n    <tr>\n      <th>min</th>\n      <td>29.000000</td>\n      <td>0.000000</td>\n      <td>1.000000</td>\n      <td>94.000000</td>\n      <td>126.000000</td>\n      <td>0.000000</td>\n      <td>0.000000</td>\n      <td>71.000000</td>\n      <td>0.000000</td>\n      <td>0.00000</td>\n      <td>1.000000</td>\n      <td>0.000000</td>\n      <td>3.000000</td>\n      <td>1.000000</td>\n    </tr>\n    <tr>\n      <th>25%</th>\n      <td>48.000000</td>\n      <td>0.000000</td>\n      <td>3.000000</td>\n      <td>120.000000</td>\n      <td>213.000000</td>\n      <td>0.000000</td>\n      <td>0.000000</td>\n      <td>133.000000</td>\n      <td>0.000000</td>\n      <td>0.00000</td>\n      <td>1.000000</td>\n      <td>0.000000</td>\n      <td>3.000000</td>\n      <td>1.000000</td>\n    </tr>\n    <tr>\n      <th>50%</th>\n      <td>55.000000</td>\n      <td>1.000000</td>\n      <td>3.000000</td>\n      <td>130.000000</td>\n      <td>245.000000</td>\n      <td>0.000000</td>\n      <td>2.000000</td>\n      <td>153.500000</td>\n      <td>0.000000</td>\n      <td>0.80000</td>\n      <td>2.000000</td>\n      <td>0.000000</td>\n      <td>3.000000</td>\n      <td>1.000000</td>\n    </tr>\n    <tr>\n      <th>75%</th>\n      <td>61.000000</td>\n      <td>1.000000</td>\n      <td>4.000000</td>\n      <td>140.000000</td>\n      <td>280.000000</td>\n      <td>0.000000</td>\n      <td>2.000000</td>\n      <td>166.000000</td>\n      <td>1.000000</td>\n      <td>1.60000</td>\n      <td>2.000000</td>\n      <td>1.000000</td>\n      <td>7.000000</td>\n      <td>2.000000</td>\n    </tr>\n    <tr>\n      <th>max</th>\n      <td>77.000000</td>\n      <td>1.000000</td>\n      <td>4.000000</td>\n      <td>200.000000</td>\n      <td>564.000000</td>\n      <td>1.000000</td>\n      <td>2.000000</td>\n      <td>202.000000</td>\n      <td>1.000000</td>\n      <td>6.20000</td>\n      <td>3.000000</td>\n      <td>3.000000</td>\n      <td>7.000000</td>\n      <td>2.000000</td>\n    </tr>\n  </tbody>\n</table>\n</div>"
     },
     "metadata": {},
     "execution_count": 23
    }
   ],
   "source": [
    "data.describe()"
   ]
  },
  {
   "cell_type": "code",
   "execution_count": 24,
   "metadata": {},
   "outputs": [
    {
     "output_type": "stream",
     "name": "stdout",
     "text": [
      "<class 'pandas.core.frame.DataFrame'>\nRangeIndex: 270 entries, 0 to 269\nData columns (total 14 columns):\n #   Column  Non-Null Count  Dtype  \n---  ------  --------------  -----  \n 0   0       270 non-null    float64\n 1   1       270 non-null    float64\n 2   2       270 non-null    float64\n 3   3       270 non-null    float64\n 4   4       270 non-null    float64\n 5   5       270 non-null    float64\n 6   6       270 non-null    float64\n 7   7       270 non-null    float64\n 8   8       270 non-null    float64\n 9   9       270 non-null    float64\n 10  10      270 non-null    float64\n 11  11      270 non-null    float64\n 12  12      270 non-null    float64\n 13  13      270 non-null    int64  \ndtypes: float64(13), int64(1)\nmemory usage: 29.7 KB\n"
     ]
    },
    {
     "output_type": "execute_result",
     "data": {
      "text/plain": [
       "0     0\n",
       "1     0\n",
       "2     0\n",
       "3     0\n",
       "4     0\n",
       "5     0\n",
       "6     0\n",
       "7     0\n",
       "8     0\n",
       "9     0\n",
       "10    0\n",
       "11    0\n",
       "12    0\n",
       "13    0\n",
       "dtype: int64"
      ]
     },
     "metadata": {},
     "execution_count": 24
    }
   ],
   "source": [
    "data.head()\n",
    "data.shape\n",
    "data.info()\n",
    "data.isnull().sum()"
   ]
  },
  {
   "cell_type": "code",
   "execution_count": 25,
   "metadata": {},
   "outputs": [
    {
     "output_type": "execute_result",
     "data": {
      "text/plain": [
       "               0           1           2           3           4           5   \\\n",
       "count  270.000000  270.000000  270.000000  270.000000  270.000000  270.000000   \n",
       "mean    54.433333    0.677778    3.174074  131.344444  249.659259    0.148148   \n",
       "std      9.109067    0.468195    0.950090   17.861608   51.686237    0.355906   \n",
       "min     29.000000    0.000000    1.000000   94.000000  126.000000    0.000000   \n",
       "25%     48.000000    0.000000    3.000000  120.000000  213.000000    0.000000   \n",
       "50%     55.000000    1.000000    3.000000  130.000000  245.000000    0.000000   \n",
       "75%     61.000000    1.000000    4.000000  140.000000  280.000000    0.000000   \n",
       "max     77.000000    1.000000    4.000000  200.000000  564.000000    1.000000   \n",
       "\n",
       "               6           7           8          9           10          11  \\\n",
       "count  270.000000  270.000000  270.000000  270.00000  270.000000  270.000000   \n",
       "mean     1.022222  149.677778    0.329630    1.05000    1.585185    0.670370   \n",
       "std      0.997891   23.165717    0.470952    1.14521    0.614390    0.943896   \n",
       "min      0.000000   71.000000    0.000000    0.00000    1.000000    0.000000   \n",
       "25%      0.000000  133.000000    0.000000    0.00000    1.000000    0.000000   \n",
       "50%      2.000000  153.500000    0.000000    0.80000    2.000000    0.000000   \n",
       "75%      2.000000  166.000000    1.000000    1.60000    2.000000    1.000000   \n",
       "max      2.000000  202.000000    1.000000    6.20000    3.000000    3.000000   \n",
       "\n",
       "               12          13  \n",
       "count  270.000000  270.000000  \n",
       "mean     4.696296    1.444444  \n",
       "std      1.940659    0.497827  \n",
       "min      3.000000    1.000000  \n",
       "25%      3.000000    1.000000  \n",
       "50%      3.000000    1.000000  \n",
       "75%      7.000000    2.000000  \n",
       "max      7.000000    2.000000  "
      ],
      "text/html": "<div>\n<style scoped>\n    .dataframe tbody tr th:only-of-type {\n        vertical-align: middle;\n    }\n\n    .dataframe tbody tr th {\n        vertical-align: top;\n    }\n\n    .dataframe thead th {\n        text-align: right;\n    }\n</style>\n<table border=\"1\" class=\"dataframe\">\n  <thead>\n    <tr style=\"text-align: right;\">\n      <th></th>\n      <th>0</th>\n      <th>1</th>\n      <th>2</th>\n      <th>3</th>\n      <th>4</th>\n      <th>5</th>\n      <th>6</th>\n      <th>7</th>\n      <th>8</th>\n      <th>9</th>\n      <th>10</th>\n      <th>11</th>\n      <th>12</th>\n      <th>13</th>\n    </tr>\n  </thead>\n  <tbody>\n    <tr>\n      <th>count</th>\n      <td>270.000000</td>\n      <td>270.000000</td>\n      <td>270.000000</td>\n      <td>270.000000</td>\n      <td>270.000000</td>\n      <td>270.000000</td>\n      <td>270.000000</td>\n      <td>270.000000</td>\n      <td>270.000000</td>\n      <td>270.00000</td>\n      <td>270.000000</td>\n      <td>270.000000</td>\n      <td>270.000000</td>\n      <td>270.000000</td>\n    </tr>\n    <tr>\n      <th>mean</th>\n      <td>54.433333</td>\n      <td>0.677778</td>\n      <td>3.174074</td>\n      <td>131.344444</td>\n      <td>249.659259</td>\n      <td>0.148148</td>\n      <td>1.022222</td>\n      <td>149.677778</td>\n      <td>0.329630</td>\n      <td>1.05000</td>\n      <td>1.585185</td>\n      <td>0.670370</td>\n      <td>4.696296</td>\n      <td>1.444444</td>\n    </tr>\n    <tr>\n      <th>std</th>\n      <td>9.109067</td>\n      <td>0.468195</td>\n      <td>0.950090</td>\n      <td>17.861608</td>\n      <td>51.686237</td>\n      <td>0.355906</td>\n      <td>0.997891</td>\n      <td>23.165717</td>\n      <td>0.470952</td>\n      <td>1.14521</td>\n      <td>0.614390</td>\n      <td>0.943896</td>\n      <td>1.940659</td>\n      <td>0.497827</td>\n    </tr>\n    <tr>\n      <th>min</th>\n      <td>29.000000</td>\n      <td>0.000000</td>\n      <td>1.000000</td>\n      <td>94.000000</td>\n      <td>126.000000</td>\n      <td>0.000000</td>\n      <td>0.000000</td>\n      <td>71.000000</td>\n      <td>0.000000</td>\n      <td>0.00000</td>\n      <td>1.000000</td>\n      <td>0.000000</td>\n      <td>3.000000</td>\n      <td>1.000000</td>\n    </tr>\n    <tr>\n      <th>25%</th>\n      <td>48.000000</td>\n      <td>0.000000</td>\n      <td>3.000000</td>\n      <td>120.000000</td>\n      <td>213.000000</td>\n      <td>0.000000</td>\n      <td>0.000000</td>\n      <td>133.000000</td>\n      <td>0.000000</td>\n      <td>0.00000</td>\n      <td>1.000000</td>\n      <td>0.000000</td>\n      <td>3.000000</td>\n      <td>1.000000</td>\n    </tr>\n    <tr>\n      <th>50%</th>\n      <td>55.000000</td>\n      <td>1.000000</td>\n      <td>3.000000</td>\n      <td>130.000000</td>\n      <td>245.000000</td>\n      <td>0.000000</td>\n      <td>2.000000</td>\n      <td>153.500000</td>\n      <td>0.000000</td>\n      <td>0.80000</td>\n      <td>2.000000</td>\n      <td>0.000000</td>\n      <td>3.000000</td>\n      <td>1.000000</td>\n    </tr>\n    <tr>\n      <th>75%</th>\n      <td>61.000000</td>\n      <td>1.000000</td>\n      <td>4.000000</td>\n      <td>140.000000</td>\n      <td>280.000000</td>\n      <td>0.000000</td>\n      <td>2.000000</td>\n      <td>166.000000</td>\n      <td>1.000000</td>\n      <td>1.60000</td>\n      <td>2.000000</td>\n      <td>1.000000</td>\n      <td>7.000000</td>\n      <td>2.000000</td>\n    </tr>\n    <tr>\n      <th>max</th>\n      <td>77.000000</td>\n      <td>1.000000</td>\n      <td>4.000000</td>\n      <td>200.000000</td>\n      <td>564.000000</td>\n      <td>1.000000</td>\n      <td>2.000000</td>\n      <td>202.000000</td>\n      <td>1.000000</td>\n      <td>6.20000</td>\n      <td>3.000000</td>\n      <td>3.000000</td>\n      <td>7.000000</td>\n      <td>2.000000</td>\n    </tr>\n  </tbody>\n</table>\n</div>"
     },
     "metadata": {},
     "execution_count": 25
    }
   ],
   "source": [
    "data.describe()"
   ]
  },
  {
   "cell_type": "code",
   "execution_count": 29,
   "metadata": {},
   "outputs": [
    {
     "output_type": "execute_result",
     "data": {
      "text/plain": [
       "               0           1           2           3           4           5   \\\n",
       "count  270.000000  270.000000  270.000000  270.000000  270.000000  270.000000   \n",
       "mean     0.706926    0.677778    0.793519    0.656722    0.442658    0.148148   \n",
       "std      0.118300    0.468195    0.237523    0.089308    0.091642    0.355906   \n",
       "min      0.376623    0.000000    0.250000    0.470000    0.223404    0.000000   \n",
       "25%      0.623377    0.000000    0.750000    0.600000    0.377660    0.000000   \n",
       "50%      0.714286    1.000000    0.750000    0.650000    0.434397    0.000000   \n",
       "75%      0.792208    1.000000    1.000000    0.700000    0.496454    0.000000   \n",
       "max      1.000000    1.000000    1.000000    1.000000    1.000000    1.000000   \n",
       "\n",
       "               6           7           8           9           10          11  \\\n",
       "count  270.000000  270.000000  270.000000  270.000000  270.000000  270.000000   \n",
       "mean     0.511111    0.740979    0.329630    0.169355    0.528395    0.223457   \n",
       "std      0.498946    0.114682    0.470952    0.184711    0.204797    0.314632   \n",
       "min      0.000000    0.351485    0.000000    0.000000    0.333333    0.000000   \n",
       "25%      0.000000    0.658416    0.000000    0.000000    0.333333    0.000000   \n",
       "50%      1.000000    0.759901    0.000000    0.129032    0.666667    0.000000   \n",
       "75%      1.000000    0.821782    1.000000    0.258065    0.666667    0.333333   \n",
       "max      1.000000    1.000000    1.000000    1.000000    1.000000    1.000000   \n",
       "\n",
       "               12          13  \n",
       "count  270.000000  270.000000  \n",
       "mean     0.670899    0.444444  \n",
       "std      0.277237    0.497827  \n",
       "min      0.428571    0.000000  \n",
       "25%      0.428571    0.000000  \n",
       "50%      0.428571    0.000000  \n",
       "75%      1.000000    1.000000  \n",
       "max      1.000000    1.000000  "
      ],
      "text/html": "<div>\n<style scoped>\n    .dataframe tbody tr th:only-of-type {\n        vertical-align: middle;\n    }\n\n    .dataframe tbody tr th {\n        vertical-align: top;\n    }\n\n    .dataframe thead th {\n        text-align: right;\n    }\n</style>\n<table border=\"1\" class=\"dataframe\">\n  <thead>\n    <tr style=\"text-align: right;\">\n      <th></th>\n      <th>0</th>\n      <th>1</th>\n      <th>2</th>\n      <th>3</th>\n      <th>4</th>\n      <th>5</th>\n      <th>6</th>\n      <th>7</th>\n      <th>8</th>\n      <th>9</th>\n      <th>10</th>\n      <th>11</th>\n      <th>12</th>\n      <th>13</th>\n    </tr>\n  </thead>\n  <tbody>\n    <tr>\n      <th>count</th>\n      <td>270.000000</td>\n      <td>270.000000</td>\n      <td>270.000000</td>\n      <td>270.000000</td>\n      <td>270.000000</td>\n      <td>270.000000</td>\n      <td>270.000000</td>\n      <td>270.000000</td>\n      <td>270.000000</td>\n      <td>270.000000</td>\n      <td>270.000000</td>\n      <td>270.000000</td>\n      <td>270.000000</td>\n      <td>270.000000</td>\n    </tr>\n    <tr>\n      <th>mean</th>\n      <td>0.706926</td>\n      <td>0.677778</td>\n      <td>0.793519</td>\n      <td>0.656722</td>\n      <td>0.442658</td>\n      <td>0.148148</td>\n      <td>0.511111</td>\n      <td>0.740979</td>\n      <td>0.329630</td>\n      <td>0.169355</td>\n      <td>0.528395</td>\n      <td>0.223457</td>\n      <td>0.670899</td>\n      <td>0.444444</td>\n    </tr>\n    <tr>\n      <th>std</th>\n      <td>0.118300</td>\n      <td>0.468195</td>\n      <td>0.237523</td>\n      <td>0.089308</td>\n      <td>0.091642</td>\n      <td>0.355906</td>\n      <td>0.498946</td>\n      <td>0.114682</td>\n      <td>0.470952</td>\n      <td>0.184711</td>\n      <td>0.204797</td>\n      <td>0.314632</td>\n      <td>0.277237</td>\n      <td>0.497827</td>\n    </tr>\n    <tr>\n      <th>min</th>\n      <td>0.376623</td>\n      <td>0.000000</td>\n      <td>0.250000</td>\n      <td>0.470000</td>\n      <td>0.223404</td>\n      <td>0.000000</td>\n      <td>0.000000</td>\n      <td>0.351485</td>\n      <td>0.000000</td>\n      <td>0.000000</td>\n      <td>0.333333</td>\n      <td>0.000000</td>\n      <td>0.428571</td>\n      <td>0.000000</td>\n    </tr>\n    <tr>\n      <th>25%</th>\n      <td>0.623377</td>\n      <td>0.000000</td>\n      <td>0.750000</td>\n      <td>0.600000</td>\n      <td>0.377660</td>\n      <td>0.000000</td>\n      <td>0.000000</td>\n      <td>0.658416</td>\n      <td>0.000000</td>\n      <td>0.000000</td>\n      <td>0.333333</td>\n      <td>0.000000</td>\n      <td>0.428571</td>\n      <td>0.000000</td>\n    </tr>\n    <tr>\n      <th>50%</th>\n      <td>0.714286</td>\n      <td>1.000000</td>\n      <td>0.750000</td>\n      <td>0.650000</td>\n      <td>0.434397</td>\n      <td>0.000000</td>\n      <td>1.000000</td>\n      <td>0.759901</td>\n      <td>0.000000</td>\n      <td>0.129032</td>\n      <td>0.666667</td>\n      <td>0.000000</td>\n      <td>0.428571</td>\n      <td>0.000000</td>\n    </tr>\n    <tr>\n      <th>75%</th>\n      <td>0.792208</td>\n      <td>1.000000</td>\n      <td>1.000000</td>\n      <td>0.700000</td>\n      <td>0.496454</td>\n      <td>0.000000</td>\n      <td>1.000000</td>\n      <td>0.821782</td>\n      <td>1.000000</td>\n      <td>0.258065</td>\n      <td>0.666667</td>\n      <td>0.333333</td>\n      <td>1.000000</td>\n      <td>1.000000</td>\n    </tr>\n    <tr>\n      <th>max</th>\n      <td>1.000000</td>\n      <td>1.000000</td>\n      <td>1.000000</td>\n      <td>1.000000</td>\n      <td>1.000000</td>\n      <td>1.000000</td>\n      <td>1.000000</td>\n      <td>1.000000</td>\n      <td>1.000000</td>\n      <td>1.000000</td>\n      <td>1.000000</td>\n      <td>1.000000</td>\n      <td>1.000000</td>\n      <td>1.000000</td>\n    </tr>\n  </tbody>\n</table>\n</div>"
     },
     "metadata": {},
     "execution_count": 29
    }
   ],
   "source": [
    "# normalize\n",
    "norm = data.divide(list(data.max()[:-1]) + [1.0]).sub(([0] * 13) + [1])\n",
    "norm.describe()"
   ]
  }
 ]
}